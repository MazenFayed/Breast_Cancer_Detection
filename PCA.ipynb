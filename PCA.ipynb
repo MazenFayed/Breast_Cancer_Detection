{
 "cells": [
  {
   "cell_type": "code",
   "execution_count": 69,
   "metadata": {},
   "outputs": [],
   "source": [
    "import pandas as pd\n",
    "import numpy as np\n",
    "import matplotlib.pyplot as plt\n",
    "import seaborn as sns"
   ]
  },
  {
   "cell_type": "code",
   "execution_count": 4,
   "metadata": {},
   "outputs": [],
   "source": [
    "df = pd.read_csv('CC GENERAL.csv')\n",
    "df.drop('CUST_ID', axis=1, inplace=True)\n",
    "df['MINIMUM_PAYMENTS'] = df['MINIMUM_PAYMENTS'].fillna(df['MINIMUM_PAYMENTS'].mean())\n",
    "df = df.dropna(axis = 0, subset = ['CREDIT_LIMIT'])"
   ]
  },
  {
   "cell_type": "code",
   "execution_count": 99,
   "metadata": {},
   "outputs": [],
   "source": [
    "class PCA ():\n",
    "\n",
    "    def __init__(self,n_components = 0.95):\n",
    "        self.n_components = n_components\n",
    "        if self.n_components > 1:\n",
    "            self.type = 'var'\n",
    "        else:\n",
    "            self.type = 'ratio'\n",
    "\n",
    "    def fit(self,X):\n",
    "\n",
    "        self.mean = np.mean(X,axis=0)\n",
    "        self.variance = np.var(X,axis=0)\n",
    "        self.std = np.std(X,axis=0)\n",
    "        X = (X-self.mean)/self.std\n",
    "        #print(\"std_data =\" ,X)\n",
    "        # fill\n",
    "\n",
    "        self.eigvalues,self.components = np.linalg.eig(np.round(np.cov(np.array(X).T),5)) #matrix (n,)\n",
    "        #print(\"eig vectors\\n\",self.components.shape)\n",
    "        #print(\"Eig Values:\\n\",self.eigvalues)\n",
    "        #print(\"Eig Values:\\n\",sorted(self.eigvalues,reverse=True))\n",
    "        \n",
    "        if(self.type == 'var'):\n",
    "            self.components = self.components[:,:self.n_components]\n",
    "        else:\n",
    "            self.cumulative_var=np.cumsum(self.eigvalues/np.sum(self.eigvalues))\n",
    "            print(self.cumulative_var)\n",
    "            #print(len(cumulative_var[cumulative_var<=self.n_components])+1)\n",
    "            no_comp =len(self.cumulative_var[self.cumulative_var<self.n_components])+1\n",
    "            self.components = self.components[:,:no_comp]\n",
    "        return self.components\n",
    "\n",
    "    def transform(self,Z):\n",
    "        # fill\n",
    "        return Z @ self.components\n",
    "\n",
    "    #optional \n",
    "    def plot_explained_variance(self):\n",
    "        #pass\n",
    "        plt.scatter(x=range(len(self.cumulative_var)),y=self.cumulative_var)\n",
    "        plt.show()"
   ]
  },
  {
   "cell_type": "code",
   "execution_count": 100,
   "metadata": {},
   "outputs": [
    {
     "name": "stdout",
     "output_type": "stream",
     "text": [
      "[0.27287846 0.47590525 0.56381568 0.63862553 0.70125725 0.75876061\n",
      " 0.807632   0.85019724 0.88850239 0.91930286 0.94302276 0.96075984\n",
      " 0.97502535 0.98719902 0.99732897 0.99999941 1.        ]\n"
     ]
    }
   ],
   "source": [
    "pca_section = PCA(n_components=0.95)\n",
    "X_transofmed = pca_section.fit(df.values)"
   ]
  },
  {
   "cell_type": "code",
   "execution_count": 101,
   "metadata": {},
   "outputs": [
    {
     "name": "stdout",
     "output_type": "stream",
     "text": [
      "(17, 12)\n",
      "expected shape: (17,5)\n"
     ]
    }
   ],
   "source": [
    "print(pca_section.components.shape)\n",
    "print(\"expected shape: (17,5)\")"
   ]
  },
  {
   "cell_type": "code",
   "execution_count": 102,
   "metadata": {},
   "outputs": [
    {
     "data": {
      "text/plain": [
       "(8949, 12)"
      ]
     },
     "execution_count": 102,
     "metadata": {},
     "output_type": "execute_result"
    }
   ],
   "source": [
    "pca_section.transform(df.values).shape"
   ]
  },
  {
   "cell_type": "code",
   "execution_count": 103,
   "metadata": {},
   "outputs": [
    {
     "data": {
      "image/png": "[encoded data removed]",
      "text/plain": [
       "<Figure size 640x480 with 1 Axes>"
      ]
     },
     "metadata": {},
     "output_type": "display_data"
    }
   ],
   "source": [
    "pca_section.plot_explained_variance()"
   ]
  },
  {
   "cell_type": "code",
   "execution_count": 68,
   "metadata": {},
   "outputs": [
    {
     "name": "stdout",
     "output_type": "stream",
     "text": [
      "(8949, 12)\n"
     ]
    }
   ],
   "source": [
    "from sklearn.decomposition import PCA\n",
    "from sklearn.preprocessing import StandardScaler\n",
    "\n",
    "scaler = StandardScaler()\n",
    "scaled_data = scaler.fit_transform(df.values)\n",
    "#print(scaled_data)\n",
    "pca = PCA(n_components=0.95)  # Adjust the number of components according to your needs\n",
    "principal_components = pca.fit_transform(scaled_data)\n",
    "print(principal_components.shape)"
   ]
  },
  {
   "cell_type": "code",
   "execution_count": null,
   "metadata": {},
   "outputs": [],
   "source": []
  }
 ],
 "metadata": {
  "kernelspec": {
   "display_name": "base",
   "language": "python",
   "name": "python3"
  },
  "language_info": {
   "codemirror_mode": {
    "name": "ipython",
    "version": 3
   },
   "file_extension": ".py",
   "mimetype": "text/x-python",
   "name": "python",
   "nbconvert_exporter": "python",
   "pygments_lexer": "ipython3",
   "version": "3.12.3"
  }
 },
 "nbformat": 4,
 "nbformat_minor": 4
}
